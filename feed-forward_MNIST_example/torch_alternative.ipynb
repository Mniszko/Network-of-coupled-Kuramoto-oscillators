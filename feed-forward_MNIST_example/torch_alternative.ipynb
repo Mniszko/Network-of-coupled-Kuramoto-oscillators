{
 "cells": [
  {
   "cell_type": "code",
   "execution_count": 5,
   "metadata": {},
   "outputs": [],
   "source": [
    "import torch\n",
    "import torch.nn as nn\n",
    "import torch.optim as optim\n",
    "from torchvision import datasets, transforms\n",
    "from torch.utils.data import DataLoader\n",
    "\n",
    "import pandas as pd\n",
    "import numpy as np\n",
    "import torch\n",
    "from torch.utils.data import Dataset, DataLoader\n",
    "from sklearn.model_selection import train_test_split\n",
    "from sklearn.preprocessing import StandardScaler\n"
   ]
  },
  {
   "cell_type": "code",
   "execution_count": 7,
   "metadata": {},
   "outputs": [],
   "source": [
    "class OptdigitsDataset(Dataset):\n",
    "    def __init__(self, X, y):\n",
    "        self.X = torch.from_numpy(X).float()\n",
    "        self.y = torch.from_numpy(y).long()\n",
    "\n",
    "    def __len__(self):\n",
    "        return len(self.X)\n",
    "\n",
    "    def __getitem__(self, idx):\n",
    "        return self.X[idx], self.y[idx]\n",
    "\n",
    "# Load the data\n",
    "data = pd.read_csv('./mnist_red/optdigits.tra', header=None)  # Update path as needed\n",
    "X = data.iloc[:, :-1].values  # All rows, all columns except the last\n",
    "y = data.iloc[:, -1].values   # All rows, last column only\n",
    "\n",
    "# Split the dataset\n",
    "X_train, X_test, y_train, y_test = train_test_split(X, y, test_size=0.25, random_state=42)\n",
    "\n",
    "# Normalize the data\n",
    "scaler = StandardScaler()\n",
    "X_train = scaler.fit_transform(X_train)\n",
    "X_test = scaler.transform(X_test)\n",
    "\n",
    "# Create dataset objects\n",
    "train_dataset = OptdigitsDataset(X_train, y_train)\n",
    "test_dataset = OptdigitsDataset(X_test, y_test)\n",
    "\n",
    "trainloader = DataLoader(train_dataset, batch_size=64, shuffle=True)\n",
    "testloader = DataLoader(test_dataset, batch_size=64, shuffle=False)"
   ]
  },
  {
   "cell_type": "code",
   "execution_count": 30,
   "metadata": {},
   "outputs": [],
   "source": [
    "class Net(nn.Module):\n",
    "    def __init__(self):\n",
    "        super(Net, self).__init__()\n",
    "        self.fc1 = nn.Linear(64, 128)  # 8x8 input image, flattened to 64 pixels\n",
    "        self.fc2 = nn.Linear(128, 64)\n",
    "        self.fc3 = nn.Linear(64, 10)   # 10 output classes\n",
    "        self.softmax = nn.Softmax(dim=1)\n",
    "\n",
    "    def forward(self, x):\n",
    "        x = torch.flatten(x, start_dim=1)  # Flatten the images\n",
    "        x = torch.relu(self.fc1(x))\n",
    "        x = torch.relu(self.fc2(x))\n",
    "        x = self.fc3(x)\n",
    "        x = self.softmax(x)\n",
    "        return x"
   ]
  },
  {
   "cell_type": "code",
   "execution_count": 39,
   "metadata": {},
   "outputs": [],
   "source": [
    "model = Net()\n",
    "criterion = nn.CrossEntropyLoss()\n",
    "optimizer = optim.SGD(model.parameters(), lr=0.01, momentum=0.9)"
   ]
  },
  {
   "cell_type": "code",
   "execution_count": 40,
   "metadata": {},
   "outputs": [
    {
     "name": "stdout",
     "output_type": "stream",
     "text": [
      "Epoch 1, Batch 45, Loss: 1.0354\n",
      "Epoch 2, Batch 45, Loss: 1.0336\n",
      "Epoch 3, Batch 45, Loss: 1.0311\n",
      "Epoch 4, Batch 45, Loss: 1.0269\n",
      "Epoch 5, Batch 45, Loss: 1.0169\n",
      "Epoch 6, Batch 45, Loss: 0.9946\n",
      "Epoch 7, Batch 45, Loss: 0.9657\n",
      "Epoch 8, Batch 45, Loss: 0.9294\n",
      "Epoch 9, Batch 45, Loss: 0.8953\n",
      "Epoch 10, Batch 45, Loss: 0.8732\n",
      "Epoch 11, Batch 45, Loss: 0.8613\n",
      "Epoch 12, Batch 45, Loss: 0.8488\n",
      "Epoch 13, Batch 45, Loss: 0.8276\n",
      "Epoch 14, Batch 45, Loss: 0.8022\n",
      "Epoch 15, Batch 45, Loss: 0.7802\n",
      "Epoch 16, Batch 45, Loss: 0.7626\n",
      "Epoch 17, Batch 45, Loss: 0.7432\n",
      "Epoch 18, Batch 45, Loss: 0.7245\n",
      "Epoch 19, Batch 45, Loss: 0.7094\n",
      "Epoch 20, Batch 45, Loss: 0.6985\n",
      "Epoch 21, Batch 45, Loss: 0.6917\n",
      "Epoch 22, Batch 45, Loss: 0.6869\n",
      "Epoch 23, Batch 45, Loss: 0.6836\n",
      "Epoch 24, Batch 45, Loss: 0.6812\n",
      "Epoch 25, Batch 45, Loss: 0.6794\n",
      "Epoch 26, Batch 45, Loss: 0.6779\n",
      "Epoch 27, Batch 45, Loss: 0.6765\n",
      "Epoch 28, Batch 45, Loss: 0.6754\n",
      "Epoch 29, Batch 45, Loss: 0.6746\n",
      "Epoch 30, Batch 45, Loss: 0.6736\n",
      "Epoch 31, Batch 45, Loss: 0.6729\n",
      "Epoch 32, Batch 45, Loss: 0.6720\n",
      "Epoch 33, Batch 45, Loss: 0.6714\n",
      "Epoch 34, Batch 45, Loss: 0.6707\n",
      "Epoch 35, Batch 45, Loss: 0.6703\n",
      "Epoch 36, Batch 45, Loss: 0.6697\n",
      "Epoch 37, Batch 45, Loss: 0.6692\n",
      "Epoch 38, Batch 45, Loss: 0.6688\n",
      "Epoch 39, Batch 45, Loss: 0.6683\n",
      "Epoch 40, Batch 45, Loss: 0.6680\n",
      "Epoch 41, Batch 45, Loss: 0.6677\n",
      "Epoch 42, Batch 45, Loss: 0.6673\n",
      "Epoch 43, Batch 45, Loss: 0.6672\n",
      "Epoch 44, Batch 45, Loss: 0.6668\n",
      "Epoch 45, Batch 45, Loss: 0.6665\n",
      "Epoch 46, Batch 45, Loss: 0.6663\n",
      "Epoch 47, Batch 45, Loss: 0.6660\n",
      "Epoch 48, Batch 45, Loss: 0.6659\n",
      "Epoch 49, Batch 45, Loss: 0.6657\n",
      "Epoch 50, Batch 45, Loss: 0.6654\n",
      "Epoch 51, Batch 45, Loss: 0.6653\n",
      "Epoch 52, Batch 45, Loss: 0.6650\n",
      "Epoch 53, Batch 45, Loss: 0.6649\n",
      "Epoch 54, Batch 45, Loss: 0.6647\n",
      "Epoch 55, Batch 45, Loss: 0.6646\n",
      "Epoch 56, Batch 45, Loss: 0.6645\n",
      "Epoch 57, Batch 45, Loss: 0.6642\n",
      "Epoch 58, Batch 45, Loss: 0.6641\n",
      "Epoch 59, Batch 45, Loss: 0.6639\n",
      "Epoch 60, Batch 45, Loss: 0.6638\n",
      "Epoch 61, Batch 45, Loss: 0.6636\n",
      "Epoch 62, Batch 45, Loss: 0.6634\n",
      "Epoch 63, Batch 45, Loss: 0.6634\n",
      "Epoch 64, Batch 45, Loss: 0.6633\n",
      "Epoch 65, Batch 45, Loss: 0.6631\n",
      "Epoch 66, Batch 45, Loss: 0.6630\n",
      "Epoch 67, Batch 45, Loss: 0.6629\n",
      "Epoch 68, Batch 45, Loss: 0.6628\n",
      "Epoch 69, Batch 45, Loss: 0.6627\n",
      "Epoch 70, Batch 45, Loss: 0.6625\n",
      "Epoch 71, Batch 45, Loss: 0.6624\n",
      "Epoch 72, Batch 45, Loss: 0.6623\n",
      "Epoch 73, Batch 45, Loss: 0.6622\n",
      "Epoch 74, Batch 45, Loss: 0.6621\n",
      "Epoch 75, Batch 45, Loss: 0.6620\n",
      "Epoch 76, Batch 45, Loss: 0.6619\n",
      "Epoch 77, Batch 45, Loss: 0.6618\n",
      "Epoch 78, Batch 45, Loss: 0.6617\n",
      "Epoch 79, Batch 45, Loss: 0.6616\n",
      "Epoch 80, Batch 45, Loss: 0.6616\n",
      "Epoch 81, Batch 45, Loss: 0.6615\n",
      "Epoch 82, Batch 45, Loss: 0.6614\n",
      "Epoch 83, Batch 45, Loss: 0.6613\n",
      "Epoch 84, Batch 45, Loss: 0.6612\n",
      "Epoch 85, Batch 45, Loss: 0.6611\n",
      "Epoch 86, Batch 45, Loss: 0.6611\n",
      "Epoch 87, Batch 45, Loss: 0.6610\n",
      "Epoch 88, Batch 45, Loss: 0.6609\n",
      "Epoch 89, Batch 45, Loss: 0.6609\n",
      "Epoch 90, Batch 45, Loss: 0.6608\n",
      "Epoch 91, Batch 45, Loss: 0.6607\n",
      "Epoch 92, Batch 45, Loss: 0.6607\n",
      "Epoch 93, Batch 45, Loss: 0.6606\n",
      "Epoch 94, Batch 45, Loss: 0.6605\n",
      "Epoch 95, Batch 45, Loss: 0.6605\n",
      "Epoch 96, Batch 45, Loss: 0.6605\n",
      "Epoch 97, Batch 45, Loss: 0.6604\n",
      "Epoch 98, Batch 45, Loss: 0.6604\n",
      "Epoch 99, Batch 45, Loss: 0.6603\n",
      "Epoch 100, Batch 45, Loss: 0.6603\n"
     ]
    }
   ],
   "source": [
    "losts = []\n",
    "for epoch in range(100):  # loop over the dataset multiple times\n",
    "    running_loss = 0.0\n",
    "    for i, data in enumerate(trainloader, 0):\n",
    "        inputs, labels = data\n",
    "\n",
    "        optimizer.zero_grad()\n",
    "\n",
    "        outputs = model(inputs)\n",
    "        loss = criterion(outputs, labels)\n",
    "        loss.backward()\n",
    "        optimizer.step()\n",
    "\n",
    "        running_loss += loss.item()\n",
    "        if i % 45 == 44:    # print every 100 mini-batches\n",
    "            losts.append(running_loss)\n",
    "            print(f'Epoch {epoch + 1}, Batch {i + 1}, Loss: {running_loss / 100:.4f}')\n",
    "            running_loss = 0.0"
   ]
  },
  {
   "cell_type": "code",
   "execution_count": 33,
   "metadata": {},
   "outputs": [
    {
     "name": "stdout",
     "output_type": "stream",
     "text": [
      "Accuracy of the network on the test images: 97.80%\n"
     ]
    }
   ],
   "source": [
    "correct = 0\n",
    "total = 0\n",
    "with torch.no_grad():\n",
    "    for data in testloader:\n",
    "        images, labels = data\n",
    "        outputs = model(images)\n",
    "        _, predicted = torch.max(outputs.data, 1)\n",
    "        total += labels.size(0)\n",
    "        correct += (predicted == labels).sum().item()\n",
    "\n",
    "print(f'Accuracy of the network on the test images: {100 * correct / total:.2f}%')"
   ]
  },
  {
   "cell_type": "code",
   "execution_count": 28,
   "metadata": {},
   "outputs": [],
   "source": [
    "import matplotlib.pyplot as plt"
   ]
  },
  {
   "cell_type": "code",
   "execution_count": 47,
   "metadata": {},
   "outputs": [
    {
     "data": {
      "text/plain": [
       "[<matplotlib.lines.Line2D at 0x7fe7765d07d0>]"
      ]
     },
     "execution_count": 47,
     "metadata": {},
     "output_type": "execute_result"
    },
    {
     "data": {
      "image/png": "[encoded data removed]",
      "text/plain": [
       "<Figure size 640x480 with 1 Axes>"
      ]
     },
     "metadata": {},
     "output_type": "display_data"
    }
   ],
   "source": [
    "plt.plot(np.array(losts)/ 100, ls=\"none\", marker=\"o\")"
   ]
  },
  {
   "cell_type": "code",
   "execution_count": null,
   "metadata": {},
   "outputs": [],
   "source": []
  }
 ],
 "metadata": {
  "kernelspec": {
   "display_name": "Physics",
   "language": "python",
   "name": "python3"
  },
  "language_info": {
   "codemirror_mode": {
    "name": "ipython",
    "version": 3
   },
   "file_extension": ".py",
   "mimetype": "text/x-python",
   "name": "python",
   "nbconvert_exporter": "python",
   "pygments_lexer": "ipython3",
   "version": "3.12.2"
  },
  "orig_nbformat": 4
 },
 "nbformat": 4,
 "nbformat_minor": 2
}
